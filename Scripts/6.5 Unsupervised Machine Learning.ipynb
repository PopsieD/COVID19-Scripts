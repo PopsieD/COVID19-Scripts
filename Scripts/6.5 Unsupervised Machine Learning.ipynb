{
 "cells": [
  {
   "cell_type": "markdown",
   "metadata": {},
   "source": [
    "# 6.5 Unsupervised Machine Learning\n",
    "## Import Libraries and Datasets"
   ]
  },
  {
   "cell_type": "code",
   "execution_count": 47,
   "metadata": {},
   "outputs": [],
   "source": [
    "#import libraries\n",
    "import pandas as pd\n",
    "import numpy as np\n",
    "import seaborn as sns\n",
    "import matplotlib\n",
    "import matplotlib.pyplot as plt\n",
    "import os\n",
    "import sklearn\n",
    "from sklearn.cluster import KMeans\n",
    "from sklearn import metrics\n",
    "from scipy.spatial.distance import cdist\n",
    "import pylab as pl"
   ]
  },
  {
   "cell_type": "code",
   "execution_count": 2,
   "metadata": {},
   "outputs": [],
   "source": [
    "%matplotlib inline"
   ]
  },
  {
   "cell_type": "code",
   "execution_count": 3,
   "metadata": {},
   "outputs": [],
   "source": [
    "path = r'C:\\Users\\liz20\\OneDrive\\Career Foundry\\6. Advanced Analytics & Dashboard Design'"
   ]
  },
  {
   "cell_type": "code",
   "execution_count": 14,
   "metadata": {},
   "outputs": [],
   "source": [
    "df = pd.read_csv(os.path.join(path,'Prepared Data', 'cleaned_merge_dataCounties.csv'))"
   ]
  },
  {
   "cell_type": "markdown",
   "metadata": {},
   "source": [
    "## Data Cleaning"
   ]
  },
  {
   "cell_type": "code",
   "execution_count": 15,
   "metadata": {
    "collapsed": true
   },
   "outputs": [
    {
     "data": {
      "text/plain": [
       "County_id                     int64\n",
       "County                       object\n",
       "State                        object\n",
       "geometry                     object\n",
       "Total_Population              int64\n",
       "Pop_Density                 float64\n",
       "Land_Area                   float64\n",
       "Total_Households              int64\n",
       "Low_Income(<50000)            int64\n",
       "Average_Income(50k-100k)      int64\n",
       "High_Income(100k+)            int64\n",
       "White_only                    int64\n",
       "Black_only                    int64\n",
       "Native_American_only          int64\n",
       "Asian_only                    int64\n",
       "Pacific_Islander_only         int64\n",
       "Other_Race_only               int64\n",
       "Mixed_Race                    int64\n",
       "Non-Hispanic                  int64\n",
       "Hispanic                      int64\n",
       "Total_Deaths                  int64\n",
       "Total_Cases                   int64\n",
       "People_of_Color               int64\n",
       "POC%                        float64\n",
       "H%                          float64\n",
       "LI%                         float64\n",
       "HI%                         float64\n",
       "High_High-Income             object\n",
       "High_Low-Income              object\n",
       "Pop_density_size             object\n",
       "Hispanic_Representation      object\n",
       "dtype: object"
      ]
     },
     "execution_count": 15,
     "metadata": {},
     "output_type": "execute_result"
    }
   ],
   "source": [
    "df.dtypes"
   ]
  },
  {
   "cell_type": "code",
   "execution_count": 26,
   "metadata": {},
   "outputs": [],
   "source": [
    "df_numbers=df"
   ]
  },
  {
   "cell_type": "code",
   "execution_count": 17,
   "metadata": {
    "collapsed": true
   },
   "outputs": [
    {
     "data": {
      "text/html": [
       "<div>\n",
       "<style scoped>\n",
       "    .dataframe tbody tr th:only-of-type {\n",
       "        vertical-align: middle;\n",
       "    }\n",
       "\n",
       "    .dataframe tbody tr th {\n",
       "        vertical-align: top;\n",
       "    }\n",
       "\n",
       "    .dataframe thead th {\n",
       "        text-align: right;\n",
       "    }\n",
       "</style>\n",
       "<table border=\"1\" class=\"dataframe\">\n",
       "  <thead>\n",
       "    <tr style=\"text-align: right;\">\n",
       "      <th></th>\n",
       "      <th>County_id</th>\n",
       "      <th>geometry</th>\n",
       "      <th>Total_Population</th>\n",
       "      <th>Pop_Density</th>\n",
       "      <th>Land_Area</th>\n",
       "      <th>Total_Households</th>\n",
       "      <th>Low_Income(&lt;50000)</th>\n",
       "      <th>Average_Income(50k-100k)</th>\n",
       "      <th>High_Income(100k+)</th>\n",
       "      <th>White_only</th>\n",
       "      <th>...</th>\n",
       "      <th>Mixed_Race</th>\n",
       "      <th>Non-Hispanic</th>\n",
       "      <th>Hispanic</th>\n",
       "      <th>Total_Deaths</th>\n",
       "      <th>Total_Cases</th>\n",
       "      <th>People_of_Color</th>\n",
       "      <th>POC%</th>\n",
       "      <th>H%</th>\n",
       "      <th>LI%</th>\n",
       "      <th>HI%</th>\n",
       "    </tr>\n",
       "  </thead>\n",
       "  <tbody>\n",
       "    <tr>\n",
       "      <th>0</th>\n",
       "      <td>0</td>\n",
       "      <td>POLYGON ((-95.34283129273595 48.54667929356955...</td>\n",
       "      <td>3809</td>\n",
       "      <td>1.823648</td>\n",
       "      <td>2088.670821</td>\n",
       "      <td>1585</td>\n",
       "      <td>832</td>\n",
       "      <td>554</td>\n",
       "      <td>199</td>\n",
       "      <td>3546</td>\n",
       "      <td>...</td>\n",
       "      <td>219</td>\n",
       "      <td>3745</td>\n",
       "      <td>64</td>\n",
       "      <td>100</td>\n",
       "      <td>5531</td>\n",
       "      <td>263</td>\n",
       "      <td>6.9</td>\n",
       "      <td>1.680231</td>\n",
       "      <td>52.5</td>\n",
       "      <td>12.6</td>\n",
       "    </tr>\n",
       "    <tr>\n",
       "      <th>1</th>\n",
       "      <td>1</td>\n",
       "      <td>POLYGON ((-118.8516287983006 47.94956367346894...</td>\n",
       "      <td>7576</td>\n",
       "      <td>2.136633</td>\n",
       "      <td>3545.766247</td>\n",
       "      <td>3097</td>\n",
       "      <td>1821</td>\n",
       "      <td>823</td>\n",
       "      <td>453</td>\n",
       "      <td>5755</td>\n",
       "      <td>...</td>\n",
       "      <td>627</td>\n",
       "      <td>7229</td>\n",
       "      <td>347</td>\n",
       "      <td>39</td>\n",
       "      <td>5529</td>\n",
       "      <td>1821</td>\n",
       "      <td>24.0</td>\n",
       "      <td>4.580253</td>\n",
       "      <td>58.8</td>\n",
       "      <td>14.6</td>\n",
       "    </tr>\n",
       "    <tr>\n",
       "      <th>2</th>\n",
       "      <td>2</td>\n",
       "      <td>POLYGON ((-117.4388315800717 48.04411550564895...</td>\n",
       "      <td>44214</td>\n",
       "      <td>11.089515</td>\n",
       "      <td>3987.009440</td>\n",
       "      <td>17433</td>\n",
       "      <td>8856</td>\n",
       "      <td>5653</td>\n",
       "      <td>2924</td>\n",
       "      <td>39263</td>\n",
       "      <td>...</td>\n",
       "      <td>1825</td>\n",
       "      <td>42610</td>\n",
       "      <td>1604</td>\n",
       "      <td>614</td>\n",
       "      <td>39859</td>\n",
       "      <td>4951</td>\n",
       "      <td>11.2</td>\n",
       "      <td>3.627810</td>\n",
       "      <td>50.8</td>\n",
       "      <td>16.8</td>\n",
       "    </tr>\n",
       "    <tr>\n",
       "      <th>3</th>\n",
       "      <td>3</td>\n",
       "      <td>POLYGON ((-118.9720938501714 47.9391520192553,...</td>\n",
       "      <td>41638</td>\n",
       "      <td>4.912973</td>\n",
       "      <td>8475.112760</td>\n",
       "      <td>17527</td>\n",
       "      <td>9698</td>\n",
       "      <td>5215</td>\n",
       "      <td>2614</td>\n",
       "      <td>30423</td>\n",
       "      <td>...</td>\n",
       "      <td>2217</td>\n",
       "      <td>33427</td>\n",
       "      <td>8211</td>\n",
       "      <td>1351</td>\n",
       "      <td>156468</td>\n",
       "      <td>11215</td>\n",
       "      <td>26.9</td>\n",
       "      <td>19.719967</td>\n",
       "      <td>55.3</td>\n",
       "      <td>14.9</td>\n",
       "    </tr>\n",
       "    <tr>\n",
       "      <th>4</th>\n",
       "      <td>4</td>\n",
       "      <td>POLYGON ((-117.4385804126227 48.99991850566833...</td>\n",
       "      <td>13219</td>\n",
       "      <td>5.866061</td>\n",
       "      <td>2253.471152</td>\n",
       "      <td>5782</td>\n",
       "      <td>2980</td>\n",
       "      <td>1852</td>\n",
       "      <td>950</td>\n",
       "      <td>11881</td>\n",
       "      <td>...</td>\n",
       "      <td>346</td>\n",
       "      <td>12736</td>\n",
       "      <td>483</td>\n",
       "      <td>74</td>\n",
       "      <td>16541</td>\n",
       "      <td>1338</td>\n",
       "      <td>10.1</td>\n",
       "      <td>3.653832</td>\n",
       "      <td>51.5</td>\n",
       "      <td>16.4</td>\n",
       "    </tr>\n",
       "    <tr>\n",
       "      <th>...</th>\n",
       "      <td>...</td>\n",
       "      <td>...</td>\n",
       "      <td>...</td>\n",
       "      <td>...</td>\n",
       "      <td>...</td>\n",
       "      <td>...</td>\n",
       "      <td>...</td>\n",
       "      <td>...</td>\n",
       "      <td>...</td>\n",
       "      <td>...</td>\n",
       "      <td>...</td>\n",
       "      <td>...</td>\n",
       "      <td>...</td>\n",
       "      <td>...</td>\n",
       "      <td>...</td>\n",
       "      <td>...</td>\n",
       "      <td>...</td>\n",
       "      <td>...</td>\n",
       "      <td>...</td>\n",
       "      <td>...</td>\n",
       "      <td>...</td>\n",
       "    </tr>\n",
       "    <tr>\n",
       "      <th>3127</th>\n",
       "      <td>3135</td>\n",
       "      <td>MULTIPOLYGON (((-131.0746139491125 56.40497383...</td>\n",
       "      <td>2484</td>\n",
       "      <td>0.603870</td>\n",
       "      <td>4113.467548</td>\n",
       "      <td>1074</td>\n",
       "      <td>464</td>\n",
       "      <td>364</td>\n",
       "      <td>246</td>\n",
       "      <td>1670</td>\n",
       "      <td>...</td>\n",
       "      <td>208</td>\n",
       "      <td>2363</td>\n",
       "      <td>121</td>\n",
       "      <td>0</td>\n",
       "      <td>1783</td>\n",
       "      <td>814</td>\n",
       "      <td>32.8</td>\n",
       "      <td>4.871176</td>\n",
       "      <td>43.2</td>\n",
       "      <td>22.9</td>\n",
       "    </tr>\n",
       "    <tr>\n",
       "      <th>3128</th>\n",
       "      <td>3136</td>\n",
       "      <td>MULTIPOLYGON (((-131.6063909529272 55.31964602...</td>\n",
       "      <td>13804</td>\n",
       "      <td>1.766019</td>\n",
       "      <td>7816.448425</td>\n",
       "      <td>5327</td>\n",
       "      <td>1858</td>\n",
       "      <td>1775</td>\n",
       "      <td>1694</td>\n",
       "      <td>9219</td>\n",
       "      <td>...</td>\n",
       "      <td>1259</td>\n",
       "      <td>13103</td>\n",
       "      <td>701</td>\n",
       "      <td>0</td>\n",
       "      <td>12975</td>\n",
       "      <td>4585</td>\n",
       "      <td>33.2</td>\n",
       "      <td>5.078238</td>\n",
       "      <td>34.9</td>\n",
       "      <td>31.8</td>\n",
       "    </tr>\n",
       "    <tr>\n",
       "      <th>3129</th>\n",
       "      <td>3137</td>\n",
       "      <td>MULTIPOLYGON (((-130.1764146423518 55.75409457...</td>\n",
       "      <td>6474</td>\n",
       "      <td>0.764237</td>\n",
       "      <td>8471.197315</td>\n",
       "      <td>2356</td>\n",
       "      <td>1080</td>\n",
       "      <td>771</td>\n",
       "      <td>505</td>\n",
       "      <td>3053</td>\n",
       "      <td>...</td>\n",
       "      <td>673</td>\n",
       "      <td>6230</td>\n",
       "      <td>244</td>\n",
       "      <td>44</td>\n",
       "      <td>4437</td>\n",
       "      <td>3421</td>\n",
       "      <td>52.8</td>\n",
       "      <td>3.768922</td>\n",
       "      <td>45.8</td>\n",
       "      <td>21.4</td>\n",
       "    </tr>\n",
       "    <tr>\n",
       "      <th>3130</th>\n",
       "      <td>3138</td>\n",
       "      <td>MULTIPOLYGON (((-158.7984079292688 56.80097196...</td>\n",
       "      <td>3425</td>\n",
       "      <td>0.304673</td>\n",
       "      <td>11241.570040</td>\n",
       "      <td>860</td>\n",
       "      <td>304</td>\n",
       "      <td>299</td>\n",
       "      <td>257</td>\n",
       "      <td>605</td>\n",
       "      <td>...</td>\n",
       "      <td>265</td>\n",
       "      <td>3079</td>\n",
       "      <td>346</td>\n",
       "      <td>0</td>\n",
       "      <td>866</td>\n",
       "      <td>2820</td>\n",
       "      <td>82.3</td>\n",
       "      <td>10.102190</td>\n",
       "      <td>35.3</td>\n",
       "      <td>29.9</td>\n",
       "    </tr>\n",
       "    <tr>\n",
       "      <th>3131</th>\n",
       "      <td>3139</td>\n",
       "      <td>MULTIPOLYGON (((-166.645219344046 53.522741904...</td>\n",
       "      <td>5750</td>\n",
       "      <td>0.813047</td>\n",
       "      <td>7072.165418</td>\n",
       "      <td>1176</td>\n",
       "      <td>258</td>\n",
       "      <td>445</td>\n",
       "      <td>473</td>\n",
       "      <td>1699</td>\n",
       "      <td>...</td>\n",
       "      <td>392</td>\n",
       "      <td>4952</td>\n",
       "      <td>798</td>\n",
       "      <td>0</td>\n",
       "      <td>1082</td>\n",
       "      <td>4051</td>\n",
       "      <td>70.5</td>\n",
       "      <td>13.878261</td>\n",
       "      <td>21.9</td>\n",
       "      <td>40.2</td>\n",
       "    </tr>\n",
       "  </tbody>\n",
       "</table>\n",
       "<p>3132 rows × 25 columns</p>\n",
       "</div>"
      ],
      "text/plain": [
       "      County_id                                           geometry  \\\n",
       "0             0  POLYGON ((-95.34283129273595 48.54667929356955...   \n",
       "1             1  POLYGON ((-118.8516287983006 47.94956367346894...   \n",
       "2             2  POLYGON ((-117.4388315800717 48.04411550564895...   \n",
       "3             3  POLYGON ((-118.9720938501714 47.9391520192553,...   \n",
       "4             4  POLYGON ((-117.4385804126227 48.99991850566833...   \n",
       "...         ...                                                ...   \n",
       "3127       3135  MULTIPOLYGON (((-131.0746139491125 56.40497383...   \n",
       "3128       3136  MULTIPOLYGON (((-131.6063909529272 55.31964602...   \n",
       "3129       3137  MULTIPOLYGON (((-130.1764146423518 55.75409457...   \n",
       "3130       3138  MULTIPOLYGON (((-158.7984079292688 56.80097196...   \n",
       "3131       3139  MULTIPOLYGON (((-166.645219344046 53.522741904...   \n",
       "\n",
       "      Total_Population  Pop_Density     Land_Area  Total_Households  \\\n",
       "0                 3809     1.823648   2088.670821              1585   \n",
       "1                 7576     2.136633   3545.766247              3097   \n",
       "2                44214    11.089515   3987.009440             17433   \n",
       "3                41638     4.912973   8475.112760             17527   \n",
       "4                13219     5.866061   2253.471152              5782   \n",
       "...                ...          ...           ...               ...   \n",
       "3127              2484     0.603870   4113.467548              1074   \n",
       "3128             13804     1.766019   7816.448425              5327   \n",
       "3129              6474     0.764237   8471.197315              2356   \n",
       "3130              3425     0.304673  11241.570040               860   \n",
       "3131              5750     0.813047   7072.165418              1176   \n",
       "\n",
       "      Low_Income(<50000)  Average_Income(50k-100k)  High_Income(100k+)  \\\n",
       "0                    832                       554                 199   \n",
       "1                   1821                       823                 453   \n",
       "2                   8856                      5653                2924   \n",
       "3                   9698                      5215                2614   \n",
       "4                   2980                      1852                 950   \n",
       "...                  ...                       ...                 ...   \n",
       "3127                 464                       364                 246   \n",
       "3128                1858                      1775                1694   \n",
       "3129                1080                       771                 505   \n",
       "3130                 304                       299                 257   \n",
       "3131                 258                       445                 473   \n",
       "\n",
       "      White_only  ...  Mixed_Race  Non-Hispanic  Hispanic  Total_Deaths  \\\n",
       "0           3546  ...         219          3745        64           100   \n",
       "1           5755  ...         627          7229       347            39   \n",
       "2          39263  ...        1825         42610      1604           614   \n",
       "3          30423  ...        2217         33427      8211          1351   \n",
       "4          11881  ...         346         12736       483            74   \n",
       "...          ...  ...         ...           ...       ...           ...   \n",
       "3127        1670  ...         208          2363       121             0   \n",
       "3128        9219  ...        1259         13103       701             0   \n",
       "3129        3053  ...         673          6230       244            44   \n",
       "3130         605  ...         265          3079       346             0   \n",
       "3131        1699  ...         392          4952       798             0   \n",
       "\n",
       "      Total_Cases  People_of_Color  POC%         H%   LI%   HI%  \n",
       "0            5531              263   6.9   1.680231  52.5  12.6  \n",
       "1            5529             1821  24.0   4.580253  58.8  14.6  \n",
       "2           39859             4951  11.2   3.627810  50.8  16.8  \n",
       "3          156468            11215  26.9  19.719967  55.3  14.9  \n",
       "4           16541             1338  10.1   3.653832  51.5  16.4  \n",
       "...           ...              ...   ...        ...   ...   ...  \n",
       "3127         1783              814  32.8   4.871176  43.2  22.9  \n",
       "3128        12975             4585  33.2   5.078238  34.9  31.8  \n",
       "3129         4437             3421  52.8   3.768922  45.8  21.4  \n",
       "3130          866             2820  82.3  10.102190  35.3  29.9  \n",
       "3131         1082             4051  70.5  13.878261  21.9  40.2  \n",
       "\n",
       "[3132 rows x 25 columns]"
      ]
     },
     "execution_count": 17,
     "metadata": {},
     "output_type": "execute_result"
    }
   ],
   "source": [
    "df_numbers"
   ]
  },
  {
   "cell_type": "code",
   "execution_count": 27,
   "metadata": {
    "collapsed": true
   },
   "outputs": [
    {
     "data": {
      "text/plain": [
       "County_id                     int64\n",
       "County                       object\n",
       "State                        object\n",
       "geometry                     object\n",
       "Total_Population              int64\n",
       "Pop_Density                 float64\n",
       "Land_Area                   float64\n",
       "Total_Households              int64\n",
       "Low_Income(<50000)            int64\n",
       "Average_Income(50k-100k)      int64\n",
       "High_Income(100k+)            int64\n",
       "White_only                    int64\n",
       "Black_only                    int64\n",
       "Native_American_only          int64\n",
       "Asian_only                    int64\n",
       "Pacific_Islander_only         int64\n",
       "Other_Race_only               int64\n",
       "Mixed_Race                    int64\n",
       "Non-Hispanic                  int64\n",
       "Hispanic                      int64\n",
       "Total_Deaths                  int64\n",
       "Total_Cases                   int64\n",
       "People_of_Color               int64\n",
       "POC%                        float64\n",
       "H%                          float64\n",
       "LI%                         float64\n",
       "HI%                         float64\n",
       "High_High-Income             object\n",
       "High_Low-Income              object\n",
       "Pop_density_size             object\n",
       "Hispanic_Representation      object\n",
       "dtype: object"
      ]
     },
     "execution_count": 27,
     "metadata": {},
     "output_type": "execute_result"
    }
   ],
   "source": [
    "df_numbers.dtypes"
   ]
  },
  {
   "cell_type": "code",
   "execution_count": 29,
   "metadata": {},
   "outputs": [],
   "source": [
    "df_numbers= df_numbers.drop(columns= ['County', 'State', 'High_High-Income', 'High_Low-Income', 'Pop_density_size', 'Hispanic_Representation','geometry'])"
   ]
  },
  {
   "cell_type": "code",
   "execution_count": 38,
   "metadata": {},
   "outputs": [],
   "source": [
    "df_numbers['County_id']=df_numbers['County_id'].astype('float64')\n",
    "df_numbers['Total_Population']=df_numbers['Total_Population'].astype('float64')\n",
    "df_numbers['Total_Households']=df_numbers['Total_Households'].astype('float64')\n",
    "df_numbers['Low_Income(<50000)']=df_numbers['Low_Income(<50000)'].astype('float64')\n",
    "df_numbers['Average_Income(50k-100k)']=df_numbers['Average_Income(50k-100k)'].astype('float64')\n",
    "df_numbers['High_Income(100k+)']=df_numbers['High_Income(100k+)'].astype('float64')\n",
    "df_numbers['White_only']=df_numbers['White_only'].astype('float64')\n",
    "df_numbers['Black_only']=df_numbers['Black_only'].astype('float64')\n",
    "df_numbers['Native_American_only']=df_numbers['Native_American_only'].astype('float64')\n",
    "df_numbers['Asian_only']=df_numbers['Asian_only'].astype('float64')\n",
    "df_numbers['Pacific_Islander_only']=df_numbers['Pacific_Islander_only'].astype('float64')\n",
    "df_numbers['Other_Race_only']=df_numbers['Other_Race_only'].astype('float64')\n",
    "df_numbers['Mixed_Race']=df_numbers['Mixed_Race'].astype('float64')\n",
    "df_numbers['Non-Hispanic']=df_numbers['Non-Hispanic'].astype('float64')\n",
    "df_numbers['Hispanic']=df_numbers['Hispanic'].astype('float64')\n",
    "df_numbers['Total_Deaths']=df_numbers['Total_Deaths'].astype('float64')\n",
    "df_numbers['Total_Cases']=df_numbers['Total_Cases'].astype('float64')\n",
    "df_numbers['People_of_Color']=df_numbers['People_of_Color'].astype('float64')"
   ]
  },
  {
   "cell_type": "code",
   "execution_count": 41,
   "metadata": {
    "collapsed": true
   },
   "outputs": [
    {
     "data": {
      "text/plain": [
       "County_id                   float64\n",
       "Total_Population            float64\n",
       "Pop_Density                 float64\n",
       "Land_Area                   float64\n",
       "Total_Households            float64\n",
       "Low_Income(<50000)          float64\n",
       "Average_Income(50k-100k)    float64\n",
       "High_Income(100k+)          float64\n",
       "White_only                  float64\n",
       "Black_only                  float64\n",
       "Native_American_only        float64\n",
       "Asian_only                  float64\n",
       "Pacific_Islander_only       float64\n",
       "Other_Race_only             float64\n",
       "Mixed_Race                  float64\n",
       "Non-Hispanic                float64\n",
       "Hispanic                    float64\n",
       "Total_Deaths                float64\n",
       "Total_Cases                 float64\n",
       "People_of_Color             float64\n",
       "POC%                        float64\n",
       "H%                          float64\n",
       "LI%                         float64\n",
       "HI%                         float64\n",
       "dtype: object"
      ]
     },
     "execution_count": 41,
     "metadata": {},
     "output_type": "execute_result"
    }
   ],
   "source": [
    "df_numbers.dtypes"
   ]
  },
  {
   "cell_type": "markdown",
   "metadata": {},
   "source": [
    "## Elbow Technique"
   ]
  },
  {
   "cell_type": "code",
   "execution_count": 58,
   "metadata": {},
   "outputs": [],
   "source": [
    "#Define a range for potential clusters\n",
    "num_cl= range(1,10)"
   ]
  },
  {
   "cell_type": "code",
   "execution_count": 59,
   "metadata": {},
   "outputs": [],
   "source": [
    "#Define k-means clusters\n",
    "kmeans= [KMeans(n_clusters=i) for i in num_cl]"
   ]
  },
  {
   "cell_type": "code",
   "execution_count": 60,
   "metadata": {},
   "outputs": [],
   "source": [
    "#apply k-means algorithm\n",
    "score= [kmeans[i].fit(df_numbers).score(df_numbers) for i in range(len(kmeans))]"
   ]
  },
  {
   "cell_type": "code",
   "execution_count": 61,
   "metadata": {
    "scrolled": true
   },
   "outputs": [
    {
     "data": {
      "text/plain": [
       "[-9675402210653920.0,\n",
       " -4337822662893222.5,\n",
       " -2013371184845062.8,\n",
       " -1229633780780001.5,\n",
       " -808510350584826.8,\n",
       " -532872643654993.8,\n",
       " -411522869747592.25,\n",
       " -330268033026016.7,\n",
       " -280401874174735.78]"
      ]
     },
     "execution_count": 61,
     "metadata": {},
     "output_type": "execute_result"
    }
   ],
   "source": [
    "score"
   ]
  },
  {
   "cell_type": "code",
   "execution_count": 63,
   "metadata": {},
   "outputs": [
    {
     "data": {
      "image/png": "[encoded data removed]",
      "text/plain": [
       "<Figure size 432x288 with 1 Axes>"
      ]
     },
     "metadata": {
      "needs_background": "light"
     },
     "output_type": "display_data"
    }
   ],
   "source": [
    "#Plot the elbow curve \n",
    "pl.plot(num_cl,score)\n",
    "pl.xlabel('Number of Clusters')\n",
    "pl.ylabel('Score')\n",
    "pl.title('Elbow Curve')\n",
    "pl.show()"
   ]
  },
  {
   "cell_type": "markdown",
   "metadata": {},
   "source": [
    "The curve begins to flatten out 4 clusters. Due to the only slight increase from 3 to 4, either 3 or 4 clusters could be used. "
   ]
  },
  {
   "cell_type": "markdown",
   "metadata": {},
   "source": [
    "## K-Means Clustering"
   ]
  },
  {
   "cell_type": "code",
   "execution_count": 64,
   "metadata": {},
   "outputs": [],
   "source": [
    "#create k-means object\n",
    "kmeans= KMeans(n_clusters= 4, n_jobs= -1)"
   ]
  },
  {
   "cell_type": "code",
   "execution_count": 65,
   "metadata": {},
   "outputs": [
    {
     "name": "stderr",
     "output_type": "stream",
     "text": [
      "C:\\Users\\liz20\\anaconda3\\lib\\site-packages\\sklearn\\cluster\\_kmeans.py:792: FutureWarning: 'n_jobs' was deprecated in version 0.23 and will be removed in 1.0 (renaming of 0.25).\n",
      "  warnings.warn(\"'n_jobs' was deprecated in version 0.23 and will be\"\n"
     ]
    },
    {
     "data": {
      "text/plain": [
       "KMeans(n_clusters=4, n_jobs=-1)"
      ]
     },
     "execution_count": 65,
     "metadata": {},
     "output_type": "execute_result"
    }
   ],
   "source": [
    "#Fit k-means object to data\n",
    "kmeans.fit(df_numbers)"
   ]
  },
  {
   "cell_type": "code",
   "execution_count": 66,
   "metadata": {},
   "outputs": [
    {
     "name": "stderr",
     "output_type": "stream",
     "text": [
      "C:\\Users\\liz20\\anaconda3\\lib\\site-packages\\sklearn\\cluster\\_kmeans.py:792: FutureWarning: 'n_jobs' was deprecated in version 0.23 and will be removed in 1.0 (renaming of 0.25).\n",
      "  warnings.warn(\"'n_jobs' was deprecated in version 0.23 and will be\"\n"
     ]
    }
   ],
   "source": [
    "df_numbers['clusters']= kmeans.fit_predict(df_numbers)"
   ]
  },
  {
   "cell_type": "code",
   "execution_count": 67,
   "metadata": {},
   "outputs": [
    {
     "data": {
      "text/html": [
       "<div>\n",
       "<style scoped>\n",
       "    .dataframe tbody tr th:only-of-type {\n",
       "        vertical-align: middle;\n",
       "    }\n",
       "\n",
       "    .dataframe tbody tr th {\n",
       "        vertical-align: top;\n",
       "    }\n",
       "\n",
       "    .dataframe thead th {\n",
       "        text-align: right;\n",
       "    }\n",
       "</style>\n",
       "<table border=\"1\" class=\"dataframe\">\n",
       "  <thead>\n",
       "    <tr style=\"text-align: right;\">\n",
       "      <th></th>\n",
       "      <th>County_id</th>\n",
       "      <th>Total_Population</th>\n",
       "      <th>Pop_Density</th>\n",
       "      <th>Land_Area</th>\n",
       "      <th>Total_Households</th>\n",
       "      <th>Low_Income(&lt;50000)</th>\n",
       "      <th>Average_Income(50k-100k)</th>\n",
       "      <th>High_Income(100k+)</th>\n",
       "      <th>White_only</th>\n",
       "      <th>Black_only</th>\n",
       "      <th>...</th>\n",
       "      <th>Non-Hispanic</th>\n",
       "      <th>Hispanic</th>\n",
       "      <th>Total_Deaths</th>\n",
       "      <th>Total_Cases</th>\n",
       "      <th>People_of_Color</th>\n",
       "      <th>POC%</th>\n",
       "      <th>H%</th>\n",
       "      <th>LI%</th>\n",
       "      <th>HI%</th>\n",
       "      <th>clusters</th>\n",
       "    </tr>\n",
       "  </thead>\n",
       "  <tbody>\n",
       "    <tr>\n",
       "      <th>0</th>\n",
       "      <td>0.0</td>\n",
       "      <td>3809.0</td>\n",
       "      <td>1.823648</td>\n",
       "      <td>2088.670821</td>\n",
       "      <td>1585.0</td>\n",
       "      <td>832.0</td>\n",
       "      <td>554.0</td>\n",
       "      <td>199.0</td>\n",
       "      <td>3546.0</td>\n",
       "      <td>1.0</td>\n",
       "      <td>...</td>\n",
       "      <td>3745.0</td>\n",
       "      <td>64.0</td>\n",
       "      <td>100.0</td>\n",
       "      <td>5531.0</td>\n",
       "      <td>263.0</td>\n",
       "      <td>6.9</td>\n",
       "      <td>1.680231</td>\n",
       "      <td>52.5</td>\n",
       "      <td>12.6</td>\n",
       "      <td>0</td>\n",
       "    </tr>\n",
       "    <tr>\n",
       "      <th>1</th>\n",
       "      <td>1.0</td>\n",
       "      <td>7576.0</td>\n",
       "      <td>2.136633</td>\n",
       "      <td>3545.766247</td>\n",
       "      <td>3097.0</td>\n",
       "      <td>1821.0</td>\n",
       "      <td>823.0</td>\n",
       "      <td>453.0</td>\n",
       "      <td>5755.0</td>\n",
       "      <td>11.0</td>\n",
       "      <td>...</td>\n",
       "      <td>7229.0</td>\n",
       "      <td>347.0</td>\n",
       "      <td>39.0</td>\n",
       "      <td>5529.0</td>\n",
       "      <td>1821.0</td>\n",
       "      <td>24.0</td>\n",
       "      <td>4.580253</td>\n",
       "      <td>58.8</td>\n",
       "      <td>14.6</td>\n",
       "      <td>0</td>\n",
       "    </tr>\n",
       "    <tr>\n",
       "      <th>2</th>\n",
       "      <td>2.0</td>\n",
       "      <td>44214.0</td>\n",
       "      <td>11.089515</td>\n",
       "      <td>3987.009440</td>\n",
       "      <td>17433.0</td>\n",
       "      <td>8856.0</td>\n",
       "      <td>5653.0</td>\n",
       "      <td>2924.0</td>\n",
       "      <td>39263.0</td>\n",
       "      <td>205.0</td>\n",
       "      <td>...</td>\n",
       "      <td>42610.0</td>\n",
       "      <td>1604.0</td>\n",
       "      <td>614.0</td>\n",
       "      <td>39859.0</td>\n",
       "      <td>4951.0</td>\n",
       "      <td>11.2</td>\n",
       "      <td>3.627810</td>\n",
       "      <td>50.8</td>\n",
       "      <td>16.8</td>\n",
       "      <td>0</td>\n",
       "    </tr>\n",
       "    <tr>\n",
       "      <th>3</th>\n",
       "      <td>3.0</td>\n",
       "      <td>41638.0</td>\n",
       "      <td>4.912973</td>\n",
       "      <td>8475.112760</td>\n",
       "      <td>17527.0</td>\n",
       "      <td>9698.0</td>\n",
       "      <td>5215.0</td>\n",
       "      <td>2614.0</td>\n",
       "      <td>30423.0</td>\n",
       "      <td>204.0</td>\n",
       "      <td>...</td>\n",
       "      <td>33427.0</td>\n",
       "      <td>8211.0</td>\n",
       "      <td>1351.0</td>\n",
       "      <td>156468.0</td>\n",
       "      <td>11215.0</td>\n",
       "      <td>26.9</td>\n",
       "      <td>19.719967</td>\n",
       "      <td>55.3</td>\n",
       "      <td>14.9</td>\n",
       "      <td>0</td>\n",
       "    </tr>\n",
       "    <tr>\n",
       "      <th>4</th>\n",
       "      <td>4.0</td>\n",
       "      <td>13219.0</td>\n",
       "      <td>5.866061</td>\n",
       "      <td>2253.471152</td>\n",
       "      <td>5782.0</td>\n",
       "      <td>2980.0</td>\n",
       "      <td>1852.0</td>\n",
       "      <td>950.0</td>\n",
       "      <td>11881.0</td>\n",
       "      <td>30.0</td>\n",
       "      <td>...</td>\n",
       "      <td>12736.0</td>\n",
       "      <td>483.0</td>\n",
       "      <td>74.0</td>\n",
       "      <td>16541.0</td>\n",
       "      <td>1338.0</td>\n",
       "      <td>10.1</td>\n",
       "      <td>3.653832</td>\n",
       "      <td>51.5</td>\n",
       "      <td>16.4</td>\n",
       "      <td>0</td>\n",
       "    </tr>\n",
       "  </tbody>\n",
       "</table>\n",
       "<p>5 rows × 25 columns</p>\n",
       "</div>"
      ],
      "text/plain": [
       "   County_id  Total_Population  Pop_Density    Land_Area  Total_Households  \\\n",
       "0        0.0            3809.0     1.823648  2088.670821            1585.0   \n",
       "1        1.0            7576.0     2.136633  3545.766247            3097.0   \n",
       "2        2.0           44214.0    11.089515  3987.009440           17433.0   \n",
       "3        3.0           41638.0     4.912973  8475.112760           17527.0   \n",
       "4        4.0           13219.0     5.866061  2253.471152            5782.0   \n",
       "\n",
       "   Low_Income(<50000)  Average_Income(50k-100k)  High_Income(100k+)  \\\n",
       "0               832.0                     554.0               199.0   \n",
       "1              1821.0                     823.0               453.0   \n",
       "2              8856.0                    5653.0              2924.0   \n",
       "3              9698.0                    5215.0              2614.0   \n",
       "4              2980.0                    1852.0               950.0   \n",
       "\n",
       "   White_only  Black_only  ...  Non-Hispanic  Hispanic  Total_Deaths  \\\n",
       "0      3546.0         1.0  ...        3745.0      64.0         100.0   \n",
       "1      5755.0        11.0  ...        7229.0     347.0          39.0   \n",
       "2     39263.0       205.0  ...       42610.0    1604.0         614.0   \n",
       "3     30423.0       204.0  ...       33427.0    8211.0        1351.0   \n",
       "4     11881.0        30.0  ...       12736.0     483.0          74.0   \n",
       "\n",
       "   Total_Cases  People_of_Color  POC%         H%   LI%   HI%  clusters  \n",
       "0       5531.0            263.0   6.9   1.680231  52.5  12.6         0  \n",
       "1       5529.0           1821.0  24.0   4.580253  58.8  14.6         0  \n",
       "2      39859.0           4951.0  11.2   3.627810  50.8  16.8         0  \n",
       "3     156468.0          11215.0  26.9  19.719967  55.3  14.9         0  \n",
       "4      16541.0           1338.0  10.1   3.653832  51.5  16.4         0  \n",
       "\n",
       "[5 rows x 25 columns]"
      ]
     },
     "execution_count": 67,
     "metadata": {},
     "output_type": "execute_result"
    }
   ],
   "source": [
    "df_numbers.head()"
   ]
  },
  {
   "cell_type": "code",
   "execution_count": 68,
   "metadata": {},
   "outputs": [
    {
     "data": {
      "text/plain": [
       "0    2954\n",
       "3     150\n",
       "2      23\n",
       "1       5\n",
       "Name: clusters, dtype: int64"
      ]
     },
     "execution_count": 68,
     "metadata": {},
     "output_type": "execute_result"
    }
   ],
   "source": [
    "df_numbers['clusters'].value_counts()"
   ]
  },
  {
   "cell_type": "code",
   "execution_count": 69,
   "metadata": {
    "scrolled": true
   },
   "outputs": [
    {
     "data": {
      "image/png": "[encoded data removed]",
      "text/plain": [
       "<Figure size 864x576 with 1 Axes>"
      ]
     },
     "metadata": {
      "needs_background": "light"
     },
     "output_type": "display_data"
    }
   ],
   "source": [
    "#Plot the clusters for the \"Population\" and \"Total_Cases\"\n",
    "plt.figure(figsize=(12,8))\n",
    "ax= sns.scatterplot(x=df_numbers['Total_Population'], y=df_numbers['Total_Cases'], hue= kmeans.labels_, s=100)\n",
    "\n",
    "ax.grid(False)\n",
    "plt.xlabel('County Population')\n",
    "plt.ylabel('COVID Cases')\n",
    "plt.show()"
   ]
  },
  {
   "cell_type": "markdown",
   "metadata": {},
   "source": [
    "Since we saw in the last exercise that these two variables have a high correlation, the clusters are broken up into counties with low population and low cases, medium population and medium cases, high population and high cases, and extreme values og high/very high population and and extremely high cases numbers."
   ]
  },
  {
   "cell_type": "code",
   "execution_count": 81,
   "metadata": {},
   "outputs": [
    {
     "data": {
      "image/png": "[encoded data removed]",
      "text/plain": [
       "<Figure size 864x576 with 1 Axes>"
      ]
     },
     "metadata": {
      "needs_background": "light"
     },
     "output_type": "display_data"
    }
   ],
   "source": [
    "#Plot the clusters for the \"Population\" and \"Total_Cases\"\n",
    "plt.figure(figsize=(12,8))\n",
    "ax= sns.scatterplot(x=df_numbers['Pop_Density'], y=df_numbers['LI%'], hue= kmeans.labels_, s=100)\n",
    "\n",
    "ax.grid(False)\n",
    "plt.xlabel('County Population Density')\n",
    "plt.ylabel('Low Income Percentage')\n",
    "plt.show()"
   ]
  },
  {
   "cell_type": "markdown",
   "metadata": {},
   "source": [
    "Inerestingly, this scatterplot has clusters that are not in clearly defined sections and overlap one another. The light pink cluster also contains the highest rates of low income which coincide with smaller population densities.\n",
    "It seems that the relationship between population density and low income percentage does very little to explain the relationship between the other variables."
   ]
  },
  {
   "cell_type": "code",
   "execution_count": 70,
   "metadata": {},
   "outputs": [
    {
     "data": {
      "image/png": "[encoded data removed]",
      "text/plain": [
       "<Figure size 864x576 with 1 Axes>"
      ]
     },
     "metadata": {
      "needs_background": "light"
     },
     "output_type": "display_data"
    }
   ],
   "source": [
    "#Plot the clusters for the \"Pop_Density\" and \"Total_Cases\"\n",
    "plt.figure(figsize=(12,8))\n",
    "ax= sns.scatterplot(x=df_numbers['Pop_Density'], y=df_numbers['Total_Cases'], hue= kmeans.labels_, s=100)\n",
    "\n",
    "ax.grid(False)\n",
    "plt.xlabel('Population Density')\n",
    "plt.ylabel('COVID Cases')\n",
    "plt.show()"
   ]
  },
  {
   "cell_type": "markdown",
   "metadata": {},
   "source": [
    "Cluster 0 contains counties that have very low case numbers and low-medium population density. \n",
    "Cluster 3 contains counties with higher case numbers and similar, but slightly higher population density.\n",
    "Cluster 2 contains counties with high case numbers and very high population density.\n",
    "Cluster 1 contains counties with very high case numbers."
   ]
  },
  {
   "cell_type": "code",
   "execution_count": 82,
   "metadata": {},
   "outputs": [],
   "source": [
    "df_numbers.loc[df_numbers['clusters']==3, 'cluster'] = 'dark purple'\n",
    "df_numbers.loc[df_numbers['clusters']==2, 'cluster'] = 'purple'\n",
    "df_numbers.loc[df_numbers['clusters']==1, 'cluster'] = 'pink'\n",
    "df_numbers.loc[df_numbers['clusters']==0, 'cluster'] = 'light pink'"
   ]
  },
  {
   "cell_type": "code",
   "execution_count": 83,
   "metadata": {},
   "outputs": [
    {
     "data": {
      "text/html": [
       "<div>\n",
       "<style scoped>\n",
       "    .dataframe tbody tr th:only-of-type {\n",
       "        vertical-align: middle;\n",
       "    }\n",
       "\n",
       "    .dataframe tbody tr th {\n",
       "        vertical-align: top;\n",
       "    }\n",
       "\n",
       "    .dataframe thead tr th {\n",
       "        text-align: left;\n",
       "    }\n",
       "\n",
       "    .dataframe thead tr:last-of-type th {\n",
       "        text-align: right;\n",
       "    }\n",
       "</style>\n",
       "<table border=\"1\" class=\"dataframe\">\n",
       "  <thead>\n",
       "    <tr>\n",
       "      <th></th>\n",
       "      <th colspan=\"2\" halign=\"left\">Pop_Density</th>\n",
       "      <th colspan=\"2\" halign=\"left\">Total_Cases</th>\n",
       "      <th colspan=\"2\" halign=\"left\">Total_Population</th>\n",
       "      <th colspan=\"2\" halign=\"left\">LI%</th>\n",
       "    </tr>\n",
       "    <tr>\n",
       "      <th></th>\n",
       "      <th>mean</th>\n",
       "      <th>median</th>\n",
       "      <th>mean</th>\n",
       "      <th>median</th>\n",
       "      <th>mean</th>\n",
       "      <th>median</th>\n",
       "      <th>mean</th>\n",
       "      <th>median</th>\n",
       "    </tr>\n",
       "    <tr>\n",
       "      <th>cluster</th>\n",
       "      <th></th>\n",
       "      <th></th>\n",
       "      <th></th>\n",
       "      <th></th>\n",
       "      <th></th>\n",
       "      <th></th>\n",
       "      <th></th>\n",
       "      <th></th>\n",
       "    </tr>\n",
       "  </thead>\n",
       "  <tbody>\n",
       "    <tr>\n",
       "      <th>dark purple</th>\n",
       "      <td>1049.967636</td>\n",
       "      <td>639.731600</td>\n",
       "      <td>2.986067e+06</td>\n",
       "      <td>2613452.0</td>\n",
       "      <td>6.876767e+05</td>\n",
       "      <td>639726.0</td>\n",
       "      <td>39.233333</td>\n",
       "      <td>39.5</td>\n",
       "    </tr>\n",
       "    <tr>\n",
       "      <th>light pink</th>\n",
       "      <td>77.460308</td>\n",
       "      <td>25.398248</td>\n",
       "      <td>1.767398e+05</td>\n",
       "      <td>77397.5</td>\n",
       "      <td>5.040537e+04</td>\n",
       "      <td>23530.0</td>\n",
       "      <td>50.374611</td>\n",
       "      <td>50.7</td>\n",
       "    </tr>\n",
       "    <tr>\n",
       "      <th>pink</th>\n",
       "      <td>1566.537645</td>\n",
       "      <td>1545.990303</td>\n",
       "      <td>3.073100e+07</td>\n",
       "      <td>27752402.0</td>\n",
       "      <td>5.378745e+06</td>\n",
       "      <td>4602523.0</td>\n",
       "      <td>43.020000</td>\n",
       "      <td>41.5</td>\n",
       "    </tr>\n",
       "    <tr>\n",
       "      <th>purple</th>\n",
       "      <td>5647.778652</td>\n",
       "      <td>1211.955485</td>\n",
       "      <td>9.871940e+06</td>\n",
       "      <td>9026035.0</td>\n",
       "      <td>1.893521e+06</td>\n",
       "      <td>1761382.0</td>\n",
       "      <td>39.886957</td>\n",
       "      <td>41.8</td>\n",
       "    </tr>\n",
       "  </tbody>\n",
       "</table>\n",
       "</div>"
      ],
      "text/plain": [
       "             Pop_Density                Total_Cases              \\\n",
       "                    mean       median          mean      median   \n",
       "cluster                                                           \n",
       "dark purple  1049.967636   639.731600  2.986067e+06   2613452.0   \n",
       "light pink     77.460308    25.398248  1.767398e+05     77397.5   \n",
       "pink         1566.537645  1545.990303  3.073100e+07  27752402.0   \n",
       "purple       5647.778652  1211.955485  9.871940e+06   9026035.0   \n",
       "\n",
       "            Total_Population                   LI%         \n",
       "                        mean     median       mean median  \n",
       "cluster                                                    \n",
       "dark purple     6.876767e+05   639726.0  39.233333   39.5  \n",
       "light pink      5.040537e+04    23530.0  50.374611   50.7  \n",
       "pink            5.378745e+06  4602523.0  43.020000   41.5  \n",
       "purple          1.893521e+06  1761382.0  39.886957   41.8  "
      ]
     },
     "execution_count": 83,
     "metadata": {},
     "output_type": "execute_result"
    }
   ],
   "source": [
    "df_numbers.groupby('cluster').agg({'Pop_Density':['mean', 'median'],\n",
    "                          'Total_Cases':['mean', 'median'],\n",
    "                            'Total_Population':['mean', 'median'],\n",
    "                          'LI%':['mean', 'median']})"
   ]
  },
  {
   "cell_type": "markdown",
   "metadata": {},
   "source": [
    "The light pink cluster with the lowest population density also has the highest low-income percentage.\n",
    "The pink cluster has the highet number of cases with only the second highest values of population density and low-income rate. This indicates that here is some correlation between cases, population density and low-income rate; albeit a weaker correlation than cases and population, naturally."
   ]
  },
  {
   "cell_type": "code",
   "execution_count": null,
   "metadata": {},
   "outputs": [],
   "source": []
  }
 ],
 "metadata": {
  "kernelspec": {
   "display_name": "Python 3",
   "language": "python",
   "name": "python3"
  },
  "language_info": {
   "codemirror_mode": {
    "name": "ipython",
    "version": 3
   },
   "file_extension": ".py",
   "mimetype": "text/x-python",
   "name": "python",
   "nbconvert_exporter": "python",
   "pygments_lexer": "ipython3",
   "version": "3.8.5"
  }
 },
 "nbformat": 4,
 "nbformat_minor": 4
}
